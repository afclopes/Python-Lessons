{
 "cells": [
  {
   "cell_type": "markdown",
   "metadata": {},
   "source": [
    "# Module 3"
   ]
  },
  {
   "cell_type": "markdown",
   "metadata": {},
   "source": [
    "## Conditions and Branching"
   ]
  },
  {
   "cell_type": "markdown",
   "metadata": {},
   "source": [
    "**Comparison Operators** Plus Conditions:"
   ]
  },
  {
   "cell_type": "markdown",
   "metadata": {},
   "source": [
    "Gives results as data type Boolean, eg. True and False."
   ]
  },
  {
   "cell_type": "code",
   "execution_count": 4,
   "metadata": {},
   "outputs": [],
   "source": [
    "a=6"
   ]
  },
  {
   "cell_type": "markdown",
   "metadata": {},
   "source": [
    "Equality sign `==`"
   ]
  },
  {
   "cell_type": "code",
   "execution_count": 7,
   "metadata": {},
   "outputs": [
    {
     "data": {
      "text/plain": [
       "False"
      ]
     },
     "execution_count": 7,
     "metadata": {},
     "output_type": "execute_result"
    }
   ],
   "source": [
    "a==7"
   ]
  },
  {
   "cell_type": "code",
   "execution_count": 8,
   "metadata": {},
   "outputs": [
    {
     "data": {
      "text/plain": [
       "True"
      ]
     },
     "execution_count": 8,
     "metadata": {},
     "output_type": "execute_result"
    }
   ],
   "source": [
    "a==6"
   ]
  },
  {
   "cell_type": "markdown",
   "metadata": {},
   "source": [
    "Comparison operators: >, <, >=, =<, = \n",
    "\n",
    "Not equal !="
   ]
  },
  {
   "cell_type": "code",
   "execution_count": 9,
   "metadata": {},
   "outputs": [
    {
     "data": {
      "text/plain": [
       "True"
      ]
     },
     "execution_count": 9,
     "metadata": {},
     "output_type": "execute_result"
    }
   ],
   "source": [
    "a!=7"
   ]
  },
  {
   "cell_type": "markdown",
   "metadata": {},
   "source": [
    "**Comparison Operators** Plus Branching:"
   ]
  },
  {
   "cell_type": "markdown",
   "metadata": {},
   "source": [
    "Runs on `if` and `else` statements"
   ]
  },
  {
   "cell_type": "code",
   "execution_count": 77,
   "metadata": {},
   "outputs": [
    {
     "name": "stdout",
     "output_type": "stream",
     "text": [
      "go see movie\n",
      "move on\n"
     ]
    }
   ],
   "source": [
    "age=17\n",
    "if(age>18):\n",
    "    print(\"you can enter concert\")\n",
    "else:\n",
    "    print(\"go see movie\")\n",
    "    print(\"move on\")"
   ]
  },
  {
   "cell_type": "markdown",
   "metadata": {},
   "source": [
    "The command `print(\"move on\")` here is attached to the `else` command, and therefore will only appear when the `else` condition is fulfilled."
   ]
  },
  {
   "cell_type": "markdown",
   "metadata": {},
   "source": [
    "Another statement is `elif`"
   ]
  },
  {
   "cell_type": "code",
   "execution_count": 15,
   "metadata": {},
   "outputs": [
    {
     "name": "stdout",
     "output_type": "stream",
     "text": [
      "you can enter concerts\n",
      "move on\n"
     ]
    }
   ],
   "source": [
    "age=19\n",
    "if(age>18):\n",
    "    print(\"you can enter concerts\")\n",
    "elif(age==18):\n",
    "    print(\"go see Pink Floyd\")\n",
    "else:\n",
    "    print(\"go see movie\")\n",
    "print(\"move on\")"
   ]
  },
  {
   "cell_type": "markdown",
   "metadata": {},
   "source": [
    "The command `print(\"move on\")` is not attached to the previous statements, as it will run always after the loop is over."
   ]
  },
  {
   "cell_type": "markdown",
   "metadata": {},
   "source": [
    "**Logic operators**\n",
    "\n",
    "Also gives results as data type Boolean, eg. True and False.\n",
    "\n",
    "Uses commands like `not`, `and`, `or`"
   ]
  },
  {
   "cell_type": "markdown",
   "metadata": {},
   "source": [
    "The `if` statement will only produce True when both conditions are correct."
   ]
  },
  {
   "cell_type": "code",
   "execution_count": 19,
   "metadata": {},
   "outputs": [
    {
     "name": "stdout",
     "output_type": "stream",
     "text": [
      "This album was made in the 80's\n"
     ]
    }
   ],
   "source": [
    "album_year=1983\n",
    "if(album_year>1979)and(album_year<1990):\n",
    "    print(\"This album was made in the 80's\")"
   ]
  },
  {
   "cell_type": "markdown",
   "metadata": {},
   "source": [
    "The `if` statement will only produce True when any one of the conditions are correct."
   ]
  },
  {
   "cell_type": "code",
   "execution_count": 21,
   "metadata": {},
   "outputs": [
    {
     "name": "stdout",
     "output_type": "stream",
     "text": [
      "The album was made in the 70's or 90's\n"
     ]
    }
   ],
   "source": [
    "album_year=1990\n",
    "if(album_year<1980)or(album_year>1989):\n",
    "    print(\"The album was made in the 70's or 90's\")\n",
    "else:\n",
    "        print(\"The album was made in the 1980's\")"
   ]
  },
  {
   "cell_type": "markdown",
   "metadata": {},
   "source": [
    "## Loops"
   ]
  },
  {
   "cell_type": "markdown",
   "metadata": {},
   "source": [
    "**Ranges**\n",
    "\n",
    "Let's imagine *ranges* as ordered lists."
   ]
  },
  {
   "cell_type": "markdown",
   "metadata": {},
   "source": [
    "If input is a positive integer, the output will be a list of the length of the integer in the format of a sequence, but starting from zero."
   ]
  },
  {
   "cell_type": "code",
   "execution_count": 23,
   "metadata": {},
   "outputs": [
    {
     "data": {
      "text/plain": [
       "range(0, 3)"
      ]
     },
     "execution_count": 23,
     "metadata": {},
     "output_type": "execute_result"
    }
   ],
   "source": [
    "range(3)"
   ]
  },
  {
   "cell_type": "code",
   "execution_count": 65,
   "metadata": {},
   "outputs": [
    {
     "data": {
      "text/plain": [
       "range(10, 15)"
      ]
     },
     "execution_count": 65,
     "metadata": {},
     "output_type": "execute_result"
    }
   ],
   "source": [
    "range(10,15)"
   ]
  },
  {
   "cell_type": "markdown",
   "metadata": {},
   "source": [
    "Remember that 10 to 15 refers to the indexing number. And the indexing starts at 0, so the last value in this range will be *last index number minus 1*.\n",
    "\n",
    "Unfortunately, Python version 3 (unlike Python version 2), just repeats the command in a different way, eg. `range(3)` and `range(0,3)`."
   ]
  },
  {
   "cell_type": "markdown",
   "metadata": {},
   "source": [
    "**For loops**"
   ]
  },
  {
   "cell_type": "markdown",
   "metadata": {},
   "source": [
    "Let's transform a list. Each item on the list will be refered to according to the index of the elements.\n",
    "\n",
    "List:"
   ]
  },
  {
   "cell_type": "code",
   "execution_count": 52,
   "metadata": {},
   "outputs": [],
   "source": [
    "squares=[\"red\",\"yellow\",\"green\",\"purple\",\"blue\"]"
   ]
  },
  {
   "cell_type": "markdown",
   "metadata": {},
   "source": [
    "Set random name for variable being changed a a time, eg. i"
   ]
  },
  {
   "cell_type": "code",
   "execution_count": 53,
   "metadata": {},
   "outputs": [],
   "source": [
    "for i in range(0,5):\n",
    "    squares[i]=\"white\""
   ]
  },
  {
   "cell_type": "markdown",
   "metadata": {},
   "source": [
    "Here we are saying, in the list called *squares*, every value that the variable *i* takes, which are the values for the elements in the list from index 0 to 5, this element will change to \"*white*\"."
   ]
  },
  {
   "cell_type": "code",
   "execution_count": 50,
   "metadata": {},
   "outputs": [
    {
     "data": {
      "text/plain": [
       "['orange', 'orange', 'purple', 'orange', 'blue']"
      ]
     },
     "execution_count": 50,
     "metadata": {},
     "output_type": "execute_result"
    }
   ],
   "source": [
    "squares"
   ]
  },
  {
   "cell_type": "markdown",
   "metadata": {},
   "source": [
    "Another example using *ranges* and a *for loop* could be:\n"
   ]
  },
  {
   "cell_type": "code",
   "execution_count": 56,
   "metadata": {},
   "outputs": [
    {
     "name": "stdout",
     "output_type": "stream",
     "text": [
      "white\n",
      "white\n",
      "white\n",
      "white\n",
      "white\n"
     ]
    }
   ],
   "source": [
    "N=len(squares)\n",
    "for i in range(N):\n",
    "    print(squares[i])"
   ]
  },
  {
   "cell_type": "markdown",
   "metadata": {},
   "source": [
    "Once the first element has been changed, python loops back to the top of the function and repeats it again, until all the suggested elements to be changed are over."
   ]
  },
  {
   "cell_type": "markdown",
   "metadata": {},
   "source": [
    "The name given to the variable, eg. *i* can be anything we choose. Next, we will try calling the variable *colour*."
   ]
  },
  {
   "cell_type": "code",
   "execution_count": 58,
   "metadata": {},
   "outputs": [
    {
     "name": "stdout",
     "output_type": "stream",
     "text": [
      "white\n",
      "white\n",
      "white\n",
      "white\n",
      "white\n"
     ]
    }
   ],
   "source": [
    "for colour in squares:\n",
    "    print(colour)"
   ]
  },
  {
   "cell_type": "markdown",
   "metadata": {},
   "source": [
    "Next, we will try calling the variable *square*."
   ]
  },
  {
   "cell_type": "code",
   "execution_count": 60,
   "metadata": {},
   "outputs": [],
   "source": [
    "squares=[\"red\",\"yellow\",\"green\"]"
   ]
  },
  {
   "cell_type": "code",
   "execution_count": 61,
   "metadata": {},
   "outputs": [
    {
     "name": "stdout",
     "output_type": "stream",
     "text": [
      "red\n",
      "yellow\n",
      "green\n"
     ]
    }
   ],
   "source": [
    "for square in squares:\n",
    "    print(square)"
   ]
  },
  {
   "cell_type": "code",
   "execution_count": 62,
   "metadata": {},
   "outputs": [
    {
     "data": {
      "text/plain": [
       "'green'"
      ]
     },
     "execution_count": 62,
     "metadata": {},
     "output_type": "execute_result"
    }
   ],
   "source": [
    "square"
   ]
  },
  {
   "cell_type": "markdown",
   "metadata": {},
   "source": [
    "In this case, the variable *square* will get the name of the colour of the squares, each time differently as it works through the list *squares*. And the variable *square* will in the end maintain the last value that it took, which green."
   ]
  },
  {
   "cell_type": "markdown",
   "metadata": {},
   "source": [
    "We can also access the elements in a list via **both** the index (*i*) and the value of each element (*square*). This is possible using *enumerate*."
   ]
  },
  {
   "cell_type": "code",
   "execution_count": 64,
   "metadata": {},
   "outputs": [
    {
     "name": "stdout",
     "output_type": "stream",
     "text": [
      "0\n",
      "red\n",
      "0 red\n",
      "1\n",
      "yellow\n",
      "1 yellow\n",
      "2\n",
      "green\n",
      "2 green\n"
     ]
    }
   ],
   "source": [
    "for i,square in enumerate(squares):\n",
    "    print(i)\n",
    "    print(square)\n",
    "    print(i,square)"
   ]
  },
  {
   "cell_type": "markdown",
   "metadata": {},
   "source": [
    "**While loops**"
   ]
  },
  {
   "cell_type": "markdown",
   "metadata": {},
   "source": [
    "Similar to *for loops*, but the loop only takes place until the condition is not met. Some differences can be seen between *for loops* and *while loops*, like:\n",
    "- before you start a *while loop* you need to define the variable you will use in your comparison, eg. *i=0*\n",
    "- *while loop* comparisons do not require you to put your comparison inside round brackets, eg. `while(squares[i]==\"orange\")`, however, this makes life easier to understand the command being run\n",
    "\n",
    "\n",
    "Remember, when refering to your variable in a *while loop*, you most likely will be interested in looking at the value to which the variable is refering to, so not the index position."
   ]
  },
  {
   "cell_type": "code",
   "execution_count": 45,
   "metadata": {},
   "outputs": [],
   "source": [
    "squares=[\"orange\",\"orange\",\"purple\",\"orange\",\"blue\"]"
   ]
  },
  {
   "cell_type": "markdown",
   "metadata": {},
   "source": [
    "Make new list but leave it empty:"
   ]
  },
  {
   "cell_type": "code",
   "execution_count": 46,
   "metadata": {},
   "outputs": [],
   "source": [
    "Newsquares=[]"
   ]
  },
  {
   "cell_type": "code",
   "execution_count": 47,
   "metadata": {},
   "outputs": [
    {
     "data": {
      "text/plain": [
       "[]"
      ]
     },
     "execution_count": 47,
     "metadata": {},
     "output_type": "execute_result"
    }
   ],
   "source": [
    "Newsquares"
   ]
  },
  {
   "cell_type": "code",
   "execution_count": 48,
   "metadata": {},
   "outputs": [],
   "source": [
    "i=0\n",
    "while(squares[i]==\"orange\"):\n",
    "    Newsquares.append(squares[i])\n",
    "    i=i+1"
   ]
  },
  {
   "cell_type": "code",
   "execution_count": 49,
   "metadata": {},
   "outputs": [
    {
     "data": {
      "text/plain": [
       "['orange', 'orange']"
      ]
     },
     "execution_count": 49,
     "metadata": {},
     "output_type": "execute_result"
    }
   ],
   "source": [
    "Newsquares"
   ]
  },
  {
   "cell_type": "markdown",
   "metadata": {},
   "source": [
    "Using the `.append` function, the list *Newsquares* receives new elements and moves on to the beginning of the loop again. But before that happens, the variable *i* is adapted to the varible *i* (just used) plus 1. Which means that the next item on the list is used in following round of the loop. Once the list items do not match the conditions of the loop, then the loop is stopped, and so is the list not ammended anymore."
   ]
  },
  {
   "cell_type": "markdown",
   "metadata": {},
   "source": [
    "Remember, for the loop to continue and pass onto the next element, the end of the loop must have a description of how to move onto the next element, eg. *i=i+1*.\n",
    "\n",
    "Since here we are refering to the value of the element, instead of the index of the element, we need to use `[ ]` to indicate which value, of which index position, we would like to look at, eg. squares`[i]`."
   ]
  },
  {
   "cell_type": "markdown",
   "metadata": {},
   "source": [
    "## Functions"
   ]
  },
  {
   "cell_type": "markdown",
   "metadata": {},
   "source": [
    "A function is a piece of code that you can reuse. This can be created by you, or you can use a function that is already available in Python.\n",
    "\n",
    "Functions allow you to minimize the amount of commands and command lines that you use, and use instead just that one function while carrying out all of the same tasks.\n",
    "\n",
    "Some examples of built-in python functions are: `len()`, `sum()`, `sorted()`.\n",
    "\n",
    "Methods are similar to functions. Let's look at the difference between *sorted* and *sort*.\n",
    "\n",
    "When we have a list, and apply the function *sorted* to it, a new list will be created, and therefore we must assign it to a new variable. However, when we use the method *sort*, the items in the list will be merely rearranged and maintain the same name as the original list.\n"
   ]
  },
  {
   "cell_type": "code",
   "execution_count": 69,
   "metadata": {},
   "outputs": [
    {
     "data": {
      "text/plain": [
       "[3, 5, 7, 8, 9, 9, 10]"
      ]
     },
     "execution_count": 69,
     "metadata": {},
     "output_type": "execute_result"
    }
   ],
   "source": [
    "ratings=[10,9,7,3,5,9,8]\n",
    "sorted_ratings=sorted(ratings)\n",
    "sorted_ratings"
   ]
  },
  {
   "cell_type": "code",
   "execution_count": 70,
   "metadata": {},
   "outputs": [
    {
     "data": {
      "text/plain": [
       "[10, 9, 7, 3, 5, 9, 8]"
      ]
     },
     "execution_count": 70,
     "metadata": {},
     "output_type": "execute_result"
    }
   ],
   "source": [
    "ratings"
   ]
  },
  {
   "cell_type": "code",
   "execution_count": 71,
   "metadata": {},
   "outputs": [
    {
     "data": {
      "text/plain": [
       "[3, 5, 7, 8, 9, 9, 10]"
      ]
     },
     "execution_count": 71,
     "metadata": {},
     "output_type": "execute_result"
    }
   ],
   "source": [
    "ratings2=[10,9,7,3,5,9,8]\n",
    "ratings2.sort()\n",
    "ratings2"
   ]
  },
  {
   "cell_type": "markdown",
   "metadata": {},
   "source": [
    "**Builing own function**"
   ]
  },
  {
   "cell_type": "markdown",
   "metadata": {},
   "source": [
    "Define function with `def`"
   ]
  }
 ],
 "metadata": {
  "kernelspec": {
   "display_name": "Python 3",
   "language": "python",
   "name": "python3"
  },
  "language_info": {
   "codemirror_mode": {
    "name": "ipython",
    "version": 3
   },
   "file_extension": ".py",
   "mimetype": "text/x-python",
   "name": "python",
   "nbconvert_exporter": "python",
   "pygments_lexer": "ipython3",
   "version": "3.7.6"
  }
 },
 "nbformat": 4,
 "nbformat_minor": 4
}
