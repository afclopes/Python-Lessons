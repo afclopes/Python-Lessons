{
 "cells": [
  {
   "cell_type": "markdown",
   "metadata": {},
   "source": [
    "# Module 3"
   ]
  },
  {
   "cell_type": "markdown",
   "metadata": {},
   "source": [
    "## Conditions and Branching"
   ]
  },
  {
   "cell_type": "markdown",
   "metadata": {},
   "source": [
    "**Comparison Operators** Plus Conditions:"
   ]
  },
  {
   "cell_type": "markdown",
   "metadata": {},
   "source": [
    "Gives results as data type Boolean, eg. True and False."
   ]
  },
  {
   "cell_type": "code",
   "execution_count": 4,
   "metadata": {},
   "outputs": [],
   "source": [
    "a=6"
   ]
  },
  {
   "cell_type": "markdown",
   "metadata": {},
   "source": [
    "Equality sign `==`"
   ]
  },
  {
   "cell_type": "code",
   "execution_count": 7,
   "metadata": {},
   "outputs": [
    {
     "data": {
      "text/plain": [
       "False"
      ]
     },
     "execution_count": 7,
     "metadata": {},
     "output_type": "execute_result"
    }
   ],
   "source": [
    "a==7"
   ]
  },
  {
   "cell_type": "code",
   "execution_count": 8,
   "metadata": {},
   "outputs": [
    {
     "data": {
      "text/plain": [
       "True"
      ]
     },
     "execution_count": 8,
     "metadata": {},
     "output_type": "execute_result"
    }
   ],
   "source": [
    "a==6"
   ]
  },
  {
   "cell_type": "markdown",
   "metadata": {},
   "source": [
    "Comparison operators: >, <, >=, =<, = \n",
    "\n",
    "Not equal !="
   ]
  },
  {
   "cell_type": "code",
   "execution_count": 9,
   "metadata": {},
   "outputs": [
    {
     "data": {
      "text/plain": [
       "True"
      ]
     },
     "execution_count": 9,
     "metadata": {},
     "output_type": "execute_result"
    }
   ],
   "source": [
    "a!=7"
   ]
  },
  {
   "cell_type": "markdown",
   "metadata": {},
   "source": [
    "**Comparison Operators** Plus Branching:"
   ]
  },
  {
   "cell_type": "markdown",
   "metadata": {},
   "source": [
    "Runs on `if` and `else` statements"
   ]
  },
  {
   "cell_type": "code",
   "execution_count": 77,
   "metadata": {},
   "outputs": [
    {
     "name": "stdout",
     "output_type": "stream",
     "text": [
      "go see movie\n",
      "move on\n"
     ]
    }
   ],
   "source": [
    "age=17\n",
    "if(age>18):\n",
    "    print(\"you can enter concert\")\n",
    "else:\n",
    "    print(\"go see movie\")\n",
    "    print(\"move on\")"
   ]
  },
  {
   "cell_type": "markdown",
   "metadata": {},
   "source": [
    "The command `print(\"move on\")` here is attached to the `else` command, and therefore will only appear when the `else` condition is fulfilled."
   ]
  },
  {
   "cell_type": "markdown",
   "metadata": {},
   "source": [
    "Another statement is `elif`"
   ]
  },
  {
   "cell_type": "code",
   "execution_count": 15,
   "metadata": {},
   "outputs": [
    {
     "name": "stdout",
     "output_type": "stream",
     "text": [
      "you can enter concerts\n",
      "move on\n"
     ]
    }
   ],
   "source": [
    "age=19\n",
    "if(age>18):\n",
    "    print(\"you can enter concerts\")\n",
    "elif(age==18):\n",
    "    print(\"go see Pink Floyd\")\n",
    "else:\n",
    "    print(\"go see movie\")\n",
    "print(\"move on\")"
   ]
  },
  {
   "cell_type": "markdown",
   "metadata": {},
   "source": [
    "The command `print(\"move on\")` is not attached to the previous statements, as it will run always after the loop is over."
   ]
  },
  {
   "cell_type": "markdown",
   "metadata": {},
   "source": [
    "**Logic operators**\n",
    "\n",
    "Also gives results as data type Boolean, eg. True and False.\n",
    "\n",
    "Uses commands like `not`, `and`, `or`"
   ]
  },
  {
   "cell_type": "markdown",
   "metadata": {},
   "source": [
    "The `if` statement will only produce True when both conditions are correct."
   ]
  },
  {
   "cell_type": "code",
   "execution_count": 19,
   "metadata": {},
   "outputs": [
    {
     "name": "stdout",
     "output_type": "stream",
     "text": [
      "This album was made in the 80's\n"
     ]
    }
   ],
   "source": [
    "album_year=1983\n",
    "if(album_year>1979)and(album_year<1990):\n",
    "    print(\"This album was made in the 80's\")"
   ]
  },
  {
   "cell_type": "markdown",
   "metadata": {},
   "source": [
    "The `if` statement will only produce True when any one of the conditions are correct."
   ]
  },
  {
   "cell_type": "code",
   "execution_count": 21,
   "metadata": {},
   "outputs": [
    {
     "name": "stdout",
     "output_type": "stream",
     "text": [
      "The album was made in the 70's or 90's\n"
     ]
    }
   ],
   "source": [
    "album_year=1990\n",
    "if(album_year<1980)or(album_year>1989):\n",
    "    print(\"The album was made in the 70's or 90's\")\n",
    "else:\n",
    "        print(\"The album was made in the 1980's\")"
   ]
  },
  {
   "cell_type": "markdown",
   "metadata": {},
   "source": [
    "## Loops"
   ]
  },
  {
   "cell_type": "markdown",
   "metadata": {},
   "source": [
    "**Ranges**\n",
    "\n",
    "Let's imagine *ranges* as ordered lists."
   ]
  },
  {
   "cell_type": "markdown",
   "metadata": {},
   "source": [
    "If input is a positive integer, the output will be a list of the length of the integer in the format of a sequence, but starting from zero."
   ]
  },
  {
   "cell_type": "code",
   "execution_count": 23,
   "metadata": {},
   "outputs": [
    {
     "data": {
      "text/plain": [
       "range(0, 3)"
      ]
     },
     "execution_count": 23,
     "metadata": {},
     "output_type": "execute_result"
    }
   ],
   "source": [
    "range(3)"
   ]
  },
  {
   "cell_type": "code",
   "execution_count": 65,
   "metadata": {},
   "outputs": [
    {
     "data": {
      "text/plain": [
       "range(10, 15)"
      ]
     },
     "execution_count": 65,
     "metadata": {},
     "output_type": "execute_result"
    }
   ],
   "source": [
    "range(10,15)"
   ]
  },
  {
   "cell_type": "markdown",
   "metadata": {},
   "source": [
    "Remember that 10 to 15 refers to the indexing number. And the indexing starts at 0, so the last value in this range will be *last index number minus 1*.\n",
    "\n",
    "Unfortunately, Python version 3 (unlike Python version 2), just repeats the command in a different way, eg. `range(3)` and `range(0,3)`."
   ]
  },
  {
   "cell_type": "markdown",
   "metadata": {},
   "source": [
    "**For loops**"
   ]
  },
  {
   "cell_type": "markdown",
   "metadata": {},
   "source": [
    "Let's transform a list. Each item on the list will be refered to according to the index of the elements.\n",
    "\n",
    "List:"
   ]
  },
  {
   "cell_type": "code",
   "execution_count": 52,
   "metadata": {},
   "outputs": [],
   "source": [
    "squares=[\"red\",\"yellow\",\"green\",\"purple\",\"blue\"]"
   ]
  },
  {
   "cell_type": "markdown",
   "metadata": {},
   "source": [
    "Set random name for variable being changed a a time, eg. i"
   ]
  },
  {
   "cell_type": "code",
   "execution_count": 53,
   "metadata": {},
   "outputs": [],
   "source": [
    "for i in range(0,5):\n",
    "    squares[i]=\"white\""
   ]
  },
  {
   "cell_type": "markdown",
   "metadata": {},
   "source": [
    "Here we are saying, in the list called *squares*, every value that the variable *i* takes, which are the values for the elements in the list from index 0 to 5, this element will change to \"*white*\"."
   ]
  },
  {
   "cell_type": "code",
   "execution_count": 50,
   "metadata": {},
   "outputs": [
    {
     "data": {
      "text/plain": [
       "['orange', 'orange', 'purple', 'orange', 'blue']"
      ]
     },
     "execution_count": 50,
     "metadata": {},
     "output_type": "execute_result"
    }
   ],
   "source": [
    "squares"
   ]
  },
  {
   "cell_type": "markdown",
   "metadata": {},
   "source": [
    "Another example using *ranges* and a *for loop* could be:\n"
   ]
  },
  {
   "cell_type": "code",
   "execution_count": 56,
   "metadata": {},
   "outputs": [
    {
     "name": "stdout",
     "output_type": "stream",
     "text": [
      "white\n",
      "white\n",
      "white\n",
      "white\n",
      "white\n"
     ]
    }
   ],
   "source": [
    "N=len(squares)\n",
    "for i in range(N):\n",
    "    print(squares[i])"
   ]
  },
  {
   "cell_type": "markdown",
   "metadata": {},
   "source": [
    "Once the first element has been changed, python loops back to the top of the function and repeats it again, until all the suggested elements to be changed are over."
   ]
  },
  {
   "cell_type": "markdown",
   "metadata": {},
   "source": [
    "The name given to the variable, eg. *i* can be anything we choose. Next, we will try calling the variable *colour*."
   ]
  },
  {
   "cell_type": "code",
   "execution_count": 58,
   "metadata": {},
   "outputs": [
    {
     "name": "stdout",
     "output_type": "stream",
     "text": [
      "white\n",
      "white\n",
      "white\n",
      "white\n",
      "white\n"
     ]
    }
   ],
   "source": [
    "for colour in squares:\n",
    "    print(colour)"
   ]
  },
  {
   "cell_type": "markdown",
   "metadata": {},
   "source": [
    "Next, we will try calling the variable *square*."
   ]
  },
  {
   "cell_type": "code",
   "execution_count": 78,
   "metadata": {},
   "outputs": [],
   "source": [
    "triangles=[\"red\",\"yellow\",\"green\"]"
   ]
  },
  {
   "cell_type": "code",
   "execution_count": 79,
   "metadata": {},
   "outputs": [
    {
     "name": "stdout",
     "output_type": "stream",
     "text": [
      "red\n",
      "yellow\n",
      "green\n"
     ]
    }
   ],
   "source": [
    "for triangle in triangles:\n",
    "    print(triangle)"
   ]
  },
  {
   "cell_type": "code",
   "execution_count": 80,
   "metadata": {},
   "outputs": [
    {
     "data": {
      "text/plain": [
       "'green'"
      ]
     },
     "execution_count": 80,
     "metadata": {},
     "output_type": "execute_result"
    }
   ],
   "source": [
    "triangle"
   ]
  },
  {
   "cell_type": "markdown",
   "metadata": {},
   "source": [
    "In this case, the variable *triangle* will get the name of the colour of the triangles, each time differently as it works through the list *triangles*. And the variable *triangle* will in the end maintain the last value that it took, which green."
   ]
  },
  {
   "cell_type": "markdown",
   "metadata": {},
   "source": [
    "We can also access the elements in a list via **both** the index (*i*) and the value of each element (*triangle*). This is possible using *enumerate*."
   ]
  },
  {
   "cell_type": "code",
   "execution_count": 82,
   "metadata": {},
   "outputs": [
    {
     "name": "stdout",
     "output_type": "stream",
     "text": [
      "0\n",
      "red\n",
      "0 red\n",
      "1\n",
      "yellow\n",
      "1 yellow\n",
      "2\n",
      "green\n",
      "2 green\n"
     ]
    }
   ],
   "source": [
    "for i,triangle in enumerate(triangles):\n",
    "    print(i)\n",
    "    print(triangle)\n",
    "    print(i,triangle)"
   ]
  },
  {
   "cell_type": "markdown",
   "metadata": {},
   "source": [
    "**While loops**"
   ]
  },
  {
   "cell_type": "markdown",
   "metadata": {},
   "source": [
    "Similar to *for loops*, but the loop only takes place until the condition is not met. Some differences can be seen between *for loops* and *while loops*, like:\n",
    "- before you start a *while loop* you need to define the variable you will use in your comparison, eg. *i=0*\n",
    "- *while loop* comparisons do not require you to put your comparison inside round brackets, eg. `while(circles[i]==\"orange\")`, however, this makes life easier to understand the command being run\n",
    "\n",
    "\n",
    "Remember, when refering to your variable in a *while loop*, you most likely will be interested in looking at the value to which the variable is refering to, so not the index position."
   ]
  },
  {
   "cell_type": "code",
   "execution_count": 83,
   "metadata": {},
   "outputs": [],
   "source": [
    "circles=[\"orange\",\"orange\",\"purple\",\"orange\",\"blue\"]"
   ]
  },
  {
   "cell_type": "markdown",
   "metadata": {},
   "source": [
    "Make new list but leave it empty:"
   ]
  },
  {
   "cell_type": "code",
   "execution_count": 84,
   "metadata": {},
   "outputs": [],
   "source": [
    "Newcircles=[]"
   ]
  },
  {
   "cell_type": "code",
   "execution_count": 85,
   "metadata": {},
   "outputs": [
    {
     "data": {
      "text/plain": [
       "[]"
      ]
     },
     "execution_count": 85,
     "metadata": {},
     "output_type": "execute_result"
    }
   ],
   "source": [
    "Newcircles"
   ]
  },
  {
   "cell_type": "code",
   "execution_count": 86,
   "metadata": {},
   "outputs": [],
   "source": [
    "i=0\n",
    "while(circles[i]==\"orange\"):\n",
    "    Newcircles.append(circles[i])\n",
    "    i=i+1"
   ]
  },
  {
   "cell_type": "code",
   "execution_count": 87,
   "metadata": {},
   "outputs": [
    {
     "data": {
      "text/plain": [
       "['orange', 'orange']"
      ]
     },
     "execution_count": 87,
     "metadata": {},
     "output_type": "execute_result"
    }
   ],
   "source": [
    "Newcircles"
   ]
  },
  {
   "cell_type": "markdown",
   "metadata": {},
   "source": [
    "Using the `.append` function, the list *Newcircles* receives new elements and moves on to the beginning of the loop again. But before that happens, the variable *i* is adapted to the varible *i* (just used) plus 1. Which means that the next item on the list is used in following round of the loop. Once the list items do not match the conditions of the loop, then the loop is stopped, and so is the list not ammended anymore."
   ]
  },
  {
   "cell_type": "markdown",
   "metadata": {},
   "source": [
    "Remember, for the loop to continue and pass onto the next element, the end of the loop must have a description of how to move onto the next element, eg. *i=i+1*.\n",
    "\n",
    "Since here we are refering to the value of the element, instead of the index of the element, we need to use `[ ]` to indicate which value, of which index position, we would like to look at, eg. circles`[i]`."
   ]
  },
  {
   "cell_type": "markdown",
   "metadata": {},
   "source": [
    "## Functions"
   ]
  },
  {
   "cell_type": "markdown",
   "metadata": {},
   "source": [
    "A function is a piece of code that you can reuse. This can be created by you, or you can use a function that is already available in Python.\n",
    "\n",
    "Functions allow you to minimize the amount of commands and command lines that you use, and use instead just that one function while carrying out all of the same tasks.\n",
    "\n",
    "Some examples of built-in python functions are: `len()`, `sum()`, `sorted()`.\n",
    "\n",
    "Methods are similar to functions. Let's look at the difference between *sorted* and *sort*.\n",
    "\n",
    "When we have a list, and apply the function *sorted* to it, a new list will be created, and therefore we must assign it to a new variable. However, when we use the method *sort*, the items in the list will be merely rearranged and maintain the same name as the original list.\n"
   ]
  },
  {
   "cell_type": "code",
   "execution_count": 69,
   "metadata": {},
   "outputs": [
    {
     "data": {
      "text/plain": [
       "[3, 5, 7, 8, 9, 9, 10]"
      ]
     },
     "execution_count": 69,
     "metadata": {},
     "output_type": "execute_result"
    }
   ],
   "source": [
    "ratings=[10,9,7,3,5,9,8]\n",
    "sorted_ratings=sorted(ratings)\n",
    "sorted_ratings"
   ]
  },
  {
   "cell_type": "code",
   "execution_count": 70,
   "metadata": {},
   "outputs": [
    {
     "data": {
      "text/plain": [
       "[10, 9, 7, 3, 5, 9, 8]"
      ]
     },
     "execution_count": 70,
     "metadata": {},
     "output_type": "execute_result"
    }
   ],
   "source": [
    "ratings"
   ]
  },
  {
   "cell_type": "code",
   "execution_count": 71,
   "metadata": {},
   "outputs": [
    {
     "data": {
      "text/plain": [
       "[3, 5, 7, 8, 9, 9, 10]"
      ]
     },
     "execution_count": 71,
     "metadata": {},
     "output_type": "execute_result"
    }
   ],
   "source": [
    "ratings2=[10,9,7,3,5,9,8]\n",
    "ratings2.sort()\n",
    "ratings2"
   ]
  },
  {
   "cell_type": "markdown",
   "metadata": {},
   "source": [
    "**Builing own function**"
   ]
  },
  {
   "cell_type": "markdown",
   "metadata": {},
   "source": [
    "- Define function with `def`\n",
    "- Give a descriptive name\n",
    "- Decide on your parameters, followed by a colon\n",
    "- Indented place code block\n",
    "- Define output\n",
    "\n",
    "Calling the function: write descriptive function name and place your input in the parameters."
   ]
  },
  {
   "cell_type": "code",
   "execution_count": 104,
   "metadata": {},
   "outputs": [
    {
     "data": {
      "text/plain": [
       "6"
      ]
     },
     "execution_count": 104,
     "metadata": {},
     "output_type": "execute_result"
    }
   ],
   "source": [
    "def add1(a):\n",
    "    b=a+1\n",
    "    return b\n",
    "add1(5)"
   ]
  },
  {
   "cell_type": "markdown",
   "metadata": {},
   "source": [
    "Everytime we call the function again, it will start from stratch with the new inputed value.\n",
    "\n",
    "A few terms to remember:\n",
    "- Scope: part of the function where a variable is accessible\n",
    "- Global scope: are variables that are defined outside of any function\n",
    "- Global variable: variable that is defined within the scope but outside the function\n",
    "- Local variable: only exist within the scope of the function\n",
    "\n",
    "Note: local variables and global variables can have the same name without any conflicts.\n",
    "\n",
    "It is good practice to add an explanation to your function. This is done between triple quotes `\"\"\"function description\"\"\"`. This description is also useful later on when you want to find out what this function does. By writing `help(function_name)`, your function description will appear as part of the documentation of your function."
   ]
  },
  {
   "cell_type": "code",
   "execution_count": 89,
   "metadata": {},
   "outputs": [
    {
     "name": "stdout",
     "output_type": "stream",
     "text": [
      "Help on function add1 in module __main__:\n",
      "\n",
      "add1(a)\n",
      "    function adds a to 1\n",
      "\n"
     ]
    }
   ],
   "source": [
    "def add1(a):\n",
    "    \"\"\"\n",
    "    function adds a to 1\n",
    "    \"\"\"\n",
    "    b=a+1\n",
    "    return b\n",
    "help(add1)"
   ]
  },
  {
   "cell_type": "markdown",
   "metadata": {},
   "source": [
    "A function can have multiple parameters, in other words, more than one variable which can be inputed. These multiple parameters can be of different data types:\n",
    "- integers\n",
    "- floats\n",
    "- strings\n",
    "- tuples\n",
    "\n",
    "When using tuples, you can use an asterisk `*` to indicate that all of elements in that tuple should be inputed one at a time and give back an equivalent number of outputs. This asterisk needs to be added to the function parameters to indicate that more than one element should be inputed into the function which should all come from a same variable or tuple."
   ]
  },
  {
   "cell_type": "code",
   "execution_count": 105,
   "metadata": {},
   "outputs": [
    {
     "name": "stdout",
     "output_type": "stream",
     "text": [
      "(3, 5, 6, 10)\n"
     ]
    }
   ],
   "source": [
    "c=(3,5,6,10)\n",
    "def add2(*d):\n",
    "    for i in d:\n",
    "       return print(i)\n",
    "        \n",
    "add2(c)"
   ]
  },
  {
   "cell_type": "markdown",
   "metadata": {},
   "source": [
    "Some functions have no outputs. In this case, often Python replies with 'None'. Still, Python requires that your function has a body. In these cases you can use for example the command `print()` or `pass`.\n",
    "\n",
    "Functions can also use *loops*."
   ]
  },
  {
   "cell_type": "markdown",
   "metadata": {},
   "source": [
    "## Objects and classes\n",
    "\n",
    "All different types of data previously discussed are known are objects in Python.\n",
    "\n",
    "Every object has:\n",
    "- a type\n",
    "- a set of actions that can be used with this object (methods)\n",
    "\n",
    "**Methods** refer to how you interact with an object and its data. For example, `.sort()`, or `.reverse()`. The former command can be used to change the order of a list, and hence changing the state of the object. \n",
    "\n",
    "An object can be defined as an instance of a particular type. So a list called 'A' is an object which is an instance of the data type list.\n",
    "\n",
    "We can find out the type of an object by using the command `type()`.\n",
    "\n",
    "### Creating an object\n",
    "\n",
    "To create an object, first you need to create the object's class.\n",
    "\n",
    "Classes contain two things:\n",
    "- Data attributes are required for each class, but can change for every instance of an object\n",
    "- Methods\n",
    "\n",
    "To define a class you need:\n",
    "- Define class with command `class`\n",
    "- Name of your class\n",
    "- Class parent, eg. object\n",
    "\n",
    "To define the object's data attributes you need:\n",
    "- Command `_init_` to initialize\n",
    "- Data attribute parameters\n",
    "- Parameter referring to the class (eg. `self` to refer to the current *class* being constructed)\n",
    "\n",
    "To create an object of the desired class:\n",
    "- Name of the object\n",
    "- Name of the class\n",
    "- Data attributes\n",
    "\n",
    "We can access the values for the data attributes by using command `ObjectName.Attribute`. This command can also be used to change the attribute.\n",
    "\n",
    "Methods are functions that interact and change the data attributes.\n",
    "\n",
    "To add a method to an object you need:\n",
    "- Name of method\n",
    "- Methods parameters\n",
    "- Parameter referring to the class, eg. `self`\n",
    "\n",
    "In the end, we can use the object class to create an instance or realisation of an object.\n",
    "\n",
    "Once the object is created, you can investigate this object by using the command `dir(NameObject)`. This will give a list of all the data attributes and methods associated with a class. (Items on the list surrounded with underscores are for Python's internal use and so should not be a matter for our concern)."
   ]
  },
  {
   "cell_type": "code",
   "execution_count": null,
   "metadata": {},
   "outputs": [],
   "source": []
  }
 ],
 "metadata": {
  "kernelspec": {
   "display_name": "Python 3",
   "language": "python",
   "name": "python3"
  },
  "language_info": {
   "codemirror_mode": {
    "name": "ipython",
    "version": 3
   },
   "file_extension": ".py",
   "mimetype": "text/x-python",
   "name": "python",
   "nbconvert_exporter": "python",
   "pygments_lexer": "ipython3",
   "version": "3.7.6"
  }
 },
 "nbformat": 4,
 "nbformat_minor": 4
}
